{
 "cells": [
  {
   "cell_type": "code",
   "execution_count": 1,
   "metadata": {},
   "outputs": [],
   "source": [
    "import numpy as np\n",
    "import pandas as pd\n",
    "\n",
    "import tensorflow as tf\n",
    "from tensorflow.keras import Sequential\n",
    "from tensorflow.keras.layers import Dense\n",
    "from tensorflow.keras.layers import LSTM\n",
    "\n",
    "from tensorflow.keras.models import load_model\n",
    "\n",
    "import warnings\n",
    "warnings.filterwarnings('ignore')"
   ]
  },
  {
   "cell_type": "code",
   "execution_count": 2,
   "metadata": {},
   "outputs": [
    {
     "data": {
      "text/html": [
       "<div>\n",
       "<style scoped>\n",
       "    .dataframe tbody tr th:only-of-type {\n",
       "        vertical-align: middle;\n",
       "    }\n",
       "\n",
       "    .dataframe tbody tr th {\n",
       "        vertical-align: top;\n",
       "    }\n",
       "\n",
       "    .dataframe thead th {\n",
       "        text-align: right;\n",
       "    }\n",
       "</style>\n",
       "<table border=\"1\" class=\"dataframe\">\n",
       "  <thead>\n",
       "    <tr style=\"text-align: right;\">\n",
       "      <th></th>\n",
       "      <th>Unnamed: 0</th>\n",
       "      <th>over</th>\n",
       "      <th>ball</th>\n",
       "      <th>total_runs</th>\n",
       "      <th>wicket left</th>\n",
       "      <th>runs required</th>\n",
       "      <th>winner</th>\n",
       "      <th>season</th>\n",
       "    </tr>\n",
       "  </thead>\n",
       "  <tbody>\n",
       "    <tr>\n",
       "      <th>0</th>\n",
       "      <td>0</td>\n",
       "      <td>1</td>\n",
       "      <td>1</td>\n",
       "      <td>1</td>\n",
       "      <td>10.0</td>\n",
       "      <td>206.0</td>\n",
       "      <td>0.0</td>\n",
       "      <td>2017</td>\n",
       "    </tr>\n",
       "    <tr>\n",
       "      <th>1</th>\n",
       "      <td>1</td>\n",
       "      <td>1</td>\n",
       "      <td>2</td>\n",
       "      <td>1</td>\n",
       "      <td>10.0</td>\n",
       "      <td>206.0</td>\n",
       "      <td>0.0</td>\n",
       "      <td>2017</td>\n",
       "    </tr>\n",
       "    <tr>\n",
       "      <th>2</th>\n",
       "      <td>2</td>\n",
       "      <td>1</td>\n",
       "      <td>3</td>\n",
       "      <td>1</td>\n",
       "      <td>10.0</td>\n",
       "      <td>206.0</td>\n",
       "      <td>0.0</td>\n",
       "      <td>2017</td>\n",
       "    </tr>\n",
       "    <tr>\n",
       "      <th>3</th>\n",
       "      <td>3</td>\n",
       "      <td>1</td>\n",
       "      <td>4</td>\n",
       "      <td>3</td>\n",
       "      <td>10.0</td>\n",
       "      <td>204.0</td>\n",
       "      <td>0.0</td>\n",
       "      <td>2017</td>\n",
       "    </tr>\n",
       "    <tr>\n",
       "      <th>4</th>\n",
       "      <td>4</td>\n",
       "      <td>1</td>\n",
       "      <td>5</td>\n",
       "      <td>7</td>\n",
       "      <td>10.0</td>\n",
       "      <td>200.0</td>\n",
       "      <td>0.0</td>\n",
       "      <td>2017</td>\n",
       "    </tr>\n",
       "  </tbody>\n",
       "</table>\n",
       "</div>"
      ],
      "text/plain": [
       "   Unnamed: 0  over  ball  total_runs  wicket left  runs required  winner  \\\n",
       "0           0     1     1           1         10.0          206.0     0.0   \n",
       "1           1     1     2           1         10.0          206.0     0.0   \n",
       "2           2     1     3           1         10.0          206.0     0.0   \n",
       "3           3     1     4           3         10.0          204.0     0.0   \n",
       "4           4     1     5           7         10.0          200.0     0.0   \n",
       "\n",
       "   season  \n",
       "0    2017  \n",
       "1    2017  \n",
       "2    2017  \n",
       "3    2017  \n",
       "4    2017  "
      ]
     },
     "execution_count": 2,
     "metadata": {},
     "output_type": "execute_result"
    }
   ],
   "source": [
    "df = pd.read_csv('Dataset.csv')\n",
    "df.head()"
   ]
  },
  {
   "cell_type": "code",
   "execution_count": 3,
   "metadata": {},
   "outputs": [],
   "source": [
    "df.drop(['Unnamed: 0'],axis=1,inplace=True)"
   ]
  },
  {
   "cell_type": "code",
   "execution_count": 4,
   "metadata": {},
   "outputs": [
    {
     "data": {
      "text/html": [
       "<div>\n",
       "<style scoped>\n",
       "    .dataframe tbody tr th:only-of-type {\n",
       "        vertical-align: middle;\n",
       "    }\n",
       "\n",
       "    .dataframe tbody tr th {\n",
       "        vertical-align: top;\n",
       "    }\n",
       "\n",
       "    .dataframe thead th {\n",
       "        text-align: right;\n",
       "    }\n",
       "</style>\n",
       "<table border=\"1\" class=\"dataframe\">\n",
       "  <thead>\n",
       "    <tr style=\"text-align: right;\">\n",
       "      <th></th>\n",
       "      <th>over</th>\n",
       "      <th>ball</th>\n",
       "      <th>total_runs</th>\n",
       "      <th>wicket left</th>\n",
       "      <th>runs required</th>\n",
       "      <th>winner</th>\n",
       "      <th>season</th>\n",
       "    </tr>\n",
       "  </thead>\n",
       "  <tbody>\n",
       "    <tr>\n",
       "      <th>0</th>\n",
       "      <td>1</td>\n",
       "      <td>1</td>\n",
       "      <td>1</td>\n",
       "      <td>10.0</td>\n",
       "      <td>206.0</td>\n",
       "      <td>0.0</td>\n",
       "      <td>2017</td>\n",
       "    </tr>\n",
       "    <tr>\n",
       "      <th>1</th>\n",
       "      <td>1</td>\n",
       "      <td>2</td>\n",
       "      <td>1</td>\n",
       "      <td>10.0</td>\n",
       "      <td>206.0</td>\n",
       "      <td>0.0</td>\n",
       "      <td>2017</td>\n",
       "    </tr>\n",
       "    <tr>\n",
       "      <th>2</th>\n",
       "      <td>1</td>\n",
       "      <td>3</td>\n",
       "      <td>1</td>\n",
       "      <td>10.0</td>\n",
       "      <td>206.0</td>\n",
       "      <td>0.0</td>\n",
       "      <td>2017</td>\n",
       "    </tr>\n",
       "    <tr>\n",
       "      <th>3</th>\n",
       "      <td>1</td>\n",
       "      <td>4</td>\n",
       "      <td>3</td>\n",
       "      <td>10.0</td>\n",
       "      <td>204.0</td>\n",
       "      <td>0.0</td>\n",
       "      <td>2017</td>\n",
       "    </tr>\n",
       "    <tr>\n",
       "      <th>4</th>\n",
       "      <td>1</td>\n",
       "      <td>5</td>\n",
       "      <td>7</td>\n",
       "      <td>10.0</td>\n",
       "      <td>200.0</td>\n",
       "      <td>0.0</td>\n",
       "      <td>2017</td>\n",
       "    </tr>\n",
       "  </tbody>\n",
       "</table>\n",
       "</div>"
      ],
      "text/plain": [
       "   over  ball  total_runs  wicket left  runs required  winner  season\n",
       "0     1     1           1         10.0          206.0     0.0    2017\n",
       "1     1     2           1         10.0          206.0     0.0    2017\n",
       "2     1     3           1         10.0          206.0     0.0    2017\n",
       "3     1     4           3         10.0          204.0     0.0    2017\n",
       "4     1     5           7         10.0          200.0     0.0    2017"
      ]
     },
     "execution_count": 4,
     "metadata": {},
     "output_type": "execute_result"
    }
   ],
   "source": [
    "df.head()"
   ]
  },
  {
   "cell_type": "code",
   "execution_count": 5,
   "metadata": {},
   "outputs": [],
   "source": [
    "def create_dataset(dataset,time_stamp=6):\n",
    "    X,Y = [],[]\n",
    "    for i in range(len(dataset)-time_stamp-1):\n",
    "        a = dataset[i:(i+time_stamp),:-1]\n",
    "        X.append(a)\n",
    "        Y.append(dataset[i+time_stamp,-1])\n",
    "    return np.array(X), np.array(Y)"
   ]
  },
  {
   "cell_type": "code",
   "execution_count": 6,
   "metadata": {},
   "outputs": [],
   "source": [
    "train_df = df[df['season']<=2017]\n",
    "test_df = df[df['season']>2017]"
   ]
  },
  {
   "cell_type": "code",
   "execution_count": 7,
   "metadata": {},
   "outputs": [],
   "source": [
    "train_df.drop(['season'],axis=1,inplace=True)\n",
    "test_df.drop(['season'],axis=1,inplace=True)"
   ]
  },
  {
   "cell_type": "code",
   "execution_count": 8,
   "metadata": {},
   "outputs": [],
   "source": [
    "stamp=1\n",
    "x_train, y_train = create_dataset(train_df.values, time_stamp=stamp)\n",
    "\n",
    "x_test, y_test = create_dataset(test_df.values, time_stamp=stamp)"
   ]
  },
  {
   "cell_type": "code",
   "execution_count": 9,
   "metadata": {},
   "outputs": [
    {
     "data": {
      "text/plain": [
       "(70487, 1, 5)"
      ]
     },
     "execution_count": 9,
     "metadata": {},
     "output_type": "execute_result"
    }
   ],
   "source": [
    "x_train.shape"
   ]
  },
  {
   "cell_type": "code",
   "execution_count": 17,
   "metadata": {
    "tags": []
   },
   "outputs": [
    {
     "name": "stdout",
     "output_type": "stream",
     "text": [
      "Train on 70487 samples, validate on 13442 samples\n",
      "Epoch 1/20\n",
      "70487/70487 [==============================] - 13s 182us/sample - loss: 0.6874 - acc: 0.5410 - val_loss: 0.6797 - val_acc: 0.5472\n",
      "Epoch 2/20\n",
      "70487/70487 [==============================] - 3s 46us/sample - loss: 0.6744 - acc: 0.5627 - val_loss: 0.6686 - val_acc: 0.5234\n",
      "Epoch 3/20\n",
      "70487/70487 [==============================] - 3s 46us/sample - loss: 0.5663 - acc: 0.7074 - val_loss: 0.6081 - val_acc: 0.6908\n",
      "Epoch 4/20\n",
      "70487/70487 [==============================] - 3s 47us/sample - loss: 0.5109 - acc: 0.7724 - val_loss: 0.6034 - val_acc: 0.6936\n",
      "Epoch 5/20\n",
      "70487/70487 [==============================] - 3s 48us/sample - loss: 0.5057 - acc: 0.7738 - val_loss: 0.6188 - val_acc: 0.6819\n",
      "Epoch 6/20\n",
      "70487/70487 [==============================] - 3s 48us/sample - loss: 0.5045 - acc: 0.7736 - val_loss: 0.5936 - val_acc: 0.7070\n",
      "Epoch 7/20\n",
      "70487/70487 [==============================] - 3s 48us/sample - loss: 0.5013 - acc: 0.7753 - val_loss: 0.5952 - val_acc: 0.7036\n",
      "Epoch 8/20\n",
      "70487/70487 [==============================] - 3s 49us/sample - loss: 0.5002 - acc: 0.7740 - val_loss: 0.5739 - val_acc: 0.7169\n",
      "Epoch 9/20\n",
      "70487/70487 [==============================] - 3s 48us/sample - loss: 0.4979 - acc: 0.7756 - val_loss: 0.5927 - val_acc: 0.7006\n",
      "Epoch 10/20\n",
      "70487/70487 [==============================] - 3s 49us/sample - loss: 0.4967 - acc: 0.7753 - val_loss: 0.5898 - val_acc: 0.7050\n",
      "Epoch 11/20\n",
      "70487/70487 [==============================] - 3s 49us/sample - loss: 0.4943 - acc: 0.7758 - val_loss: 0.5878 - val_acc: 0.6995\n",
      "Epoch 12/20\n",
      "70487/70487 [==============================] - 4s 51us/sample - loss: 0.4925 - acc: 0.7757 - val_loss: 0.5863 - val_acc: 0.6994\n",
      "Epoch 13/20\n",
      "70487/70487 [==============================] - 4s 59us/sample - loss: 0.4902 - acc: 0.7752 - val_loss: 0.5723 - val_acc: 0.7092\n",
      "Epoch 14/20\n",
      "70487/70487 [==============================] - 3s 49us/sample - loss: 0.4867 - acc: 0.7765 - val_loss: 0.5872 - val_acc: 0.6927\n",
      "Epoch 15/20\n",
      "70487/70487 [==============================] - 3s 50us/sample - loss: 0.4846 - acc: 0.7758 - val_loss: 0.5721 - val_acc: 0.7072\n",
      "Epoch 16/20\n",
      "70487/70487 [==============================] - 4s 51us/sample - loss: 0.4813 - acc: 0.7759 - val_loss: 0.5782 - val_acc: 0.7002\n",
      "Epoch 17/20\n",
      "70487/70487 [==============================] - 4s 52us/sample - loss: 0.4775 - acc: 0.7769 - val_loss: 0.5731 - val_acc: 0.6982\n",
      "Epoch 18/20\n",
      "70487/70487 [==============================] - 4s 52us/sample - loss: 0.4755 - acc: 0.7758 - val_loss: 0.5592 - val_acc: 0.7091\n",
      "Epoch 19/20\n",
      "70487/70487 [==============================] - 4s 52us/sample - loss: 0.4728 - acc: 0.7759 - val_loss: 0.5862 - val_acc: 0.6919\n",
      "Epoch 20/20\n",
      "70487/70487 [==============================] - 4s 51us/sample - loss: 0.4707 - acc: 0.7760 - val_loss: 0.5542 - val_acc: 0.7078\n"
     ]
    }
   ],
   "source": [
    "model = Sequential()\n",
    "model.add(LSTM(2, return_sequences=True, input_shape=(1, 5)))\n",
    "model.add(LSTM(2, return_sequences=True))\n",
    "model.add(LSTM(2))\n",
    "model.add(Dense(2, activation='softmax'))\n",
    "\n",
    "model.compile(optimizer='adam',loss='sparse_categorical_crossentropy',metrics=['accuracy'])\n",
    "\n",
    "history = model.fit(x_train, y_train, epochs=20,validation_data=(x_test, y_test), batch_size=120)"
   ]
  },
  {
   "cell_type": "code",
   "execution_count": 18,
   "metadata": {},
   "outputs": [],
   "source": [
    "model.save('ipl.h5')"
   ]
  },
  {
   "cell_type": "code",
   "execution_count": null,
   "metadata": {},
   "outputs": [],
   "source": []
  },
  {
   "cell_type": "code",
   "execution_count": null,
   "metadata": {},
   "outputs": [],
   "source": []
  }
 ],
 "metadata": {
  "kernelspec": {
   "display_name": "Python 3",
   "language": "python",
   "name": "python3"
  },
  "language_info": {
   "codemirror_mode": {
    "name": "ipython",
    "version": 3
   },
   "file_extension": ".py",
   "mimetype": "text/x-python",
   "name": "python",
   "nbconvert_exporter": "python",
   "pygments_lexer": "ipython3",
   "version": "3.6.12"
  }
 },
 "nbformat": 4,
 "nbformat_minor": 4
}
