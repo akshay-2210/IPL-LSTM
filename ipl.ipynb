{
 "cells": [
  {
   "cell_type": "code",
   "execution_count": 1,
   "metadata": {},
   "outputs": [],
   "source": [
    "import numpy as np\n",
    "import pandas as pd\n",
    "\n",
    "import tensorflow as tf\n",
    "from tensorflow.keras import Sequential\n",
    "from tensorflow.keras.layers import Dense\n",
    "from tensorflow.keras.layers import LSTM\n",
    "from tensorflow.keras.layers import GRU\n",
    "\n",
    "from tensorflow.keras.models import load_model\n",
    "\n",
    "from plot_keras_history import plot_history"
   ]
  },
  {
   "cell_type": "code",
   "execution_count": 2,
   "metadata": {},
   "outputs": [
    {
     "data": {
      "text/html": [
       "<div>\n",
       "<style scoped>\n",
       "    .dataframe tbody tr th:only-of-type {\n",
       "        vertical-align: middle;\n",
       "    }\n",
       "\n",
       "    .dataframe tbody tr th {\n",
       "        vertical-align: top;\n",
       "    }\n",
       "\n",
       "    .dataframe thead th {\n",
       "        text-align: right;\n",
       "    }\n",
       "</style>\n",
       "<table border=\"1\" class=\"dataframe\">\n",
       "  <thead>\n",
       "    <tr style=\"text-align: right;\">\n",
       "      <th></th>\n",
       "      <th>Unnamed: 0</th>\n",
       "      <th>batting_team</th>\n",
       "      <th>bowling_team</th>\n",
       "      <th>over</th>\n",
       "      <th>ball</th>\n",
       "      <th>total_runs</th>\n",
       "      <th>wicket left</th>\n",
       "      <th>runs required</th>\n",
       "      <th>run rate</th>\n",
       "      <th>winner</th>\n",
       "      <th>season</th>\n",
       "    </tr>\n",
       "  </thead>\n",
       "  <tbody>\n",
       "    <tr>\n",
       "      <th>0</th>\n",
       "      <td>0</td>\n",
       "      <td>1.0</td>\n",
       "      <td>0.0</td>\n",
       "      <td>1.0</td>\n",
       "      <td>1.0</td>\n",
       "      <td>1.0</td>\n",
       "      <td>10.0</td>\n",
       "      <td>206.0</td>\n",
       "      <td>0.909091</td>\n",
       "      <td>0.0</td>\n",
       "      <td>2017.0</td>\n",
       "    </tr>\n",
       "    <tr>\n",
       "      <th>1</th>\n",
       "      <td>1</td>\n",
       "      <td>1.0</td>\n",
       "      <td>0.0</td>\n",
       "      <td>1.0</td>\n",
       "      <td>2.0</td>\n",
       "      <td>1.0</td>\n",
       "      <td>10.0</td>\n",
       "      <td>206.0</td>\n",
       "      <td>0.833333</td>\n",
       "      <td>0.0</td>\n",
       "      <td>2017.0</td>\n",
       "    </tr>\n",
       "    <tr>\n",
       "      <th>2</th>\n",
       "      <td>2</td>\n",
       "      <td>1.0</td>\n",
       "      <td>0.0</td>\n",
       "      <td>1.0</td>\n",
       "      <td>3.0</td>\n",
       "      <td>1.0</td>\n",
       "      <td>10.0</td>\n",
       "      <td>206.0</td>\n",
       "      <td>0.769231</td>\n",
       "      <td>0.0</td>\n",
       "      <td>2017.0</td>\n",
       "    </tr>\n",
       "    <tr>\n",
       "      <th>3</th>\n",
       "      <td>3</td>\n",
       "      <td>1.0</td>\n",
       "      <td>0.0</td>\n",
       "      <td>1.0</td>\n",
       "      <td>4.0</td>\n",
       "      <td>3.0</td>\n",
       "      <td>10.0</td>\n",
       "      <td>204.0</td>\n",
       "      <td>2.142857</td>\n",
       "      <td>0.0</td>\n",
       "      <td>2017.0</td>\n",
       "    </tr>\n",
       "    <tr>\n",
       "      <th>4</th>\n",
       "      <td>4</td>\n",
       "      <td>1.0</td>\n",
       "      <td>0.0</td>\n",
       "      <td>1.0</td>\n",
       "      <td>5.0</td>\n",
       "      <td>7.0</td>\n",
       "      <td>10.0</td>\n",
       "      <td>200.0</td>\n",
       "      <td>4.666667</td>\n",
       "      <td>0.0</td>\n",
       "      <td>2017.0</td>\n",
       "    </tr>\n",
       "  </tbody>\n",
       "</table>\n",
       "</div>"
      ],
      "text/plain": [
       "   Unnamed: 0  batting_team  bowling_team  over  ball  total_runs  \\\n",
       "0           0           1.0           0.0   1.0   1.0         1.0   \n",
       "1           1           1.0           0.0   1.0   2.0         1.0   \n",
       "2           2           1.0           0.0   1.0   3.0         1.0   \n",
       "3           3           1.0           0.0   1.0   4.0         3.0   \n",
       "4           4           1.0           0.0   1.0   5.0         7.0   \n",
       "\n",
       "   wicket left  runs required  run rate  winner  season  \n",
       "0         10.0          206.0  0.909091     0.0  2017.0  \n",
       "1         10.0          206.0  0.833333     0.0  2017.0  \n",
       "2         10.0          206.0  0.769231     0.0  2017.0  \n",
       "3         10.0          204.0  2.142857     0.0  2017.0  \n",
       "4         10.0          200.0  4.666667     0.0  2017.0  "
      ]
     },
     "execution_count": 2,
     "metadata": {},
     "output_type": "execute_result"
    }
   ],
   "source": [
    "df = pd.read_csv('Dataset.csv')\n",
    "df.head()"
   ]
  },
  {
   "cell_type": "code",
   "execution_count": 3,
   "metadata": {},
   "outputs": [],
   "source": [
    "df.drop(['Unnamed: 0','batting_team','bowling_team'],axis=1,inplace=True)"
   ]
  },
  {
   "cell_type": "code",
   "execution_count": 4,
   "metadata": {},
   "outputs": [
    {
     "data": {
      "text/html": [
       "<div>\n",
       "<style scoped>\n",
       "    .dataframe tbody tr th:only-of-type {\n",
       "        vertical-align: middle;\n",
       "    }\n",
       "\n",
       "    .dataframe tbody tr th {\n",
       "        vertical-align: top;\n",
       "    }\n",
       "\n",
       "    .dataframe thead th {\n",
       "        text-align: right;\n",
       "    }\n",
       "</style>\n",
       "<table border=\"1\" class=\"dataframe\">\n",
       "  <thead>\n",
       "    <tr style=\"text-align: right;\">\n",
       "      <th></th>\n",
       "      <th>over</th>\n",
       "      <th>ball</th>\n",
       "      <th>total_runs</th>\n",
       "      <th>wicket left</th>\n",
       "      <th>runs required</th>\n",
       "      <th>run rate</th>\n",
       "      <th>winner</th>\n",
       "      <th>season</th>\n",
       "    </tr>\n",
       "  </thead>\n",
       "  <tbody>\n",
       "    <tr>\n",
       "      <th>0</th>\n",
       "      <td>1.0</td>\n",
       "      <td>1.0</td>\n",
       "      <td>1.0</td>\n",
       "      <td>10.0</td>\n",
       "      <td>206.0</td>\n",
       "      <td>0.909091</td>\n",
       "      <td>0.0</td>\n",
       "      <td>2017.0</td>\n",
       "    </tr>\n",
       "    <tr>\n",
       "      <th>1</th>\n",
       "      <td>1.0</td>\n",
       "      <td>2.0</td>\n",
       "      <td>1.0</td>\n",
       "      <td>10.0</td>\n",
       "      <td>206.0</td>\n",
       "      <td>0.833333</td>\n",
       "      <td>0.0</td>\n",
       "      <td>2017.0</td>\n",
       "    </tr>\n",
       "    <tr>\n",
       "      <th>2</th>\n",
       "      <td>1.0</td>\n",
       "      <td>3.0</td>\n",
       "      <td>1.0</td>\n",
       "      <td>10.0</td>\n",
       "      <td>206.0</td>\n",
       "      <td>0.769231</td>\n",
       "      <td>0.0</td>\n",
       "      <td>2017.0</td>\n",
       "    </tr>\n",
       "    <tr>\n",
       "      <th>3</th>\n",
       "      <td>1.0</td>\n",
       "      <td>4.0</td>\n",
       "      <td>3.0</td>\n",
       "      <td>10.0</td>\n",
       "      <td>204.0</td>\n",
       "      <td>2.142857</td>\n",
       "      <td>0.0</td>\n",
       "      <td>2017.0</td>\n",
       "    </tr>\n",
       "    <tr>\n",
       "      <th>4</th>\n",
       "      <td>1.0</td>\n",
       "      <td>5.0</td>\n",
       "      <td>7.0</td>\n",
       "      <td>10.0</td>\n",
       "      <td>200.0</td>\n",
       "      <td>4.666667</td>\n",
       "      <td>0.0</td>\n",
       "      <td>2017.0</td>\n",
       "    </tr>\n",
       "  </tbody>\n",
       "</table>\n",
       "</div>"
      ],
      "text/plain": [
       "   over  ball  total_runs  wicket left  runs required  run rate  winner  \\\n",
       "0   1.0   1.0         1.0         10.0          206.0  0.909091     0.0   \n",
       "1   1.0   2.0         1.0         10.0          206.0  0.833333     0.0   \n",
       "2   1.0   3.0         1.0         10.0          206.0  0.769231     0.0   \n",
       "3   1.0   4.0         3.0         10.0          204.0  2.142857     0.0   \n",
       "4   1.0   5.0         7.0         10.0          200.0  4.666667     0.0   \n",
       "\n",
       "   season  \n",
       "0  2017.0  \n",
       "1  2017.0  \n",
       "2  2017.0  \n",
       "3  2017.0  \n",
       "4  2017.0  "
      ]
     },
     "execution_count": 4,
     "metadata": {},
     "output_type": "execute_result"
    }
   ],
   "source": [
    "df.head()"
   ]
  },
  {
   "cell_type": "code",
   "execution_count": 5,
   "metadata": {},
   "outputs": [],
   "source": [
    "def create_dataset(dataset,time_stamp=6):\n",
    "    X,Y = [],[]\n",
    "    for i in range(len(dataset)-time_stamp-1):\n",
    "        a = dataset[i:(i+time_stamp),:-1]\n",
    "        X.append(a)\n",
    "        Y.append(dataset[i+time_stamp,-1])\n",
    "    return np.array(X), np.array(Y)"
   ]
  },
  {
   "cell_type": "code",
   "execution_count": 6,
   "metadata": {},
   "outputs": [],
   "source": [
    "train_df = df[df['season']<=2017]\n",
    "test_df = df[df['season']>2017]"
   ]
  },
  {
   "cell_type": "code",
   "execution_count": 7,
   "metadata": {},
   "outputs": [
    {
     "name": "stderr",
     "output_type": "stream",
     "text": [
      "c:\\users\\hp\\anaconda3\\envs\\tf\\lib\\site-packages\\pandas\\core\\frame.py:3990: SettingWithCopyWarning: \n",
      "A value is trying to be set on a copy of a slice from a DataFrame\n",
      "\n",
      "See the caveats in the documentation: https://pandas.pydata.org/pandas-docs/stable/user_guide/indexing.html#returning-a-view-versus-a-copy\n",
      "  return super().drop(\n"
     ]
    }
   ],
   "source": [
    "train_df.drop(['season'],axis=1,inplace=True)\n",
    "test_df.drop(['season'],axis=1,inplace=True)"
   ]
  },
  {
   "cell_type": "code",
   "execution_count": 8,
   "metadata": {},
   "outputs": [],
   "source": [
    "stamp=6\n",
    "x_train, y_train = create_dataset(train_df.values, time_stamp=stamp)\n",
    "\n",
    "x_test, y_test = create_dataset(test_df.values, time_stamp=stamp)"
   ]
  },
  {
   "cell_type": "code",
   "execution_count": 9,
   "metadata": {},
   "outputs": [
    {
     "data": {
      "text/plain": [
       "(131491, 6, 6)"
      ]
     },
     "execution_count": 9,
     "metadata": {},
     "output_type": "execute_result"
    }
   ],
   "source": [
    "x_train.shape"
   ]
  },
  {
   "cell_type": "code",
   "execution_count": 10,
   "metadata": {},
   "outputs": [
    {
     "name": "stdout",
     "output_type": "stream",
     "text": [
      "Epoch 1/10\n",
      "4110/4110 [==============================] - 58s 14ms/step - loss: 0.4719 - accuracy: 0.7670 - val_loss: 0.5638 - val_accuracy: 0.7059\n",
      "Epoch 2/10\n",
      "4110/4110 [==============================] - 60s 15ms/step - loss: 0.4568 - accuracy: 0.7771 - val_loss: 0.5645 - val_accuracy: 0.7126\n",
      "Epoch 3/10\n",
      "4110/4110 [==============================] - 49s 12ms/step - loss: 0.4521 - accuracy: 0.7782 - val_loss: 0.5586 - val_accuracy: 0.7122\n",
      "Epoch 4/10\n",
      "4110/4110 [==============================] - 50s 12ms/step - loss: 0.4482 - accuracy: 0.7789 - val_loss: 0.5346 - val_accuracy: 0.7044\n",
      "Epoch 5/10\n",
      "4110/4110 [==============================] - 50s 12ms/step - loss: 0.4467 - accuracy: 0.7802 - val_loss: 0.5956 - val_accuracy: 0.6958\n",
      "Epoch 6/10\n",
      "4110/4110 [==============================] - 49s 12ms/step - loss: 0.4440 - accuracy: 0.7809 - val_loss: 0.5901 - val_accuracy: 0.6993\n",
      "Epoch 7/10\n",
      "4110/4110 [==============================] - 51s 12ms/step - loss: 0.4434 - accuracy: 0.7816 - val_loss: 0.5656 - val_accuracy: 0.7007\n",
      "Epoch 8/10\n",
      "4110/4110 [==============================] - 50s 12ms/step - loss: 0.4425 - accuracy: 0.7811 - val_loss: 0.5543 - val_accuracy: 0.7110\n",
      "Epoch 9/10\n",
      "4110/4110 [==============================] - 50s 12ms/step - loss: 0.4412 - accuracy: 0.7824 - val_loss: 0.6093 - val_accuracy: 0.6971\n",
      "Epoch 10/10\n",
      "4110/4110 [==============================] - 49s 12ms/step - loss: 0.4400 - accuracy: 0.7812 - val_loss: 0.5555 - val_accuracy: 0.7031\n"
     ]
    },
    {
     "data": {
      "image/png": "[encoded data removed]",
      "text/plain": [
       "<Figure size 720x360 with 2 Axes>"
      ]
     },
     "metadata": {
      "needs_background": "light"
     },
     "output_type": "display_data"
    }
   ],
   "source": [
    "model = Sequential()\n",
    "model.add(LSTM(50, return_sequences=True, input_shape=(6,6)))\n",
    "model.add(LSTM(50, return_sequences=True))\n",
    "model.add(LSTM(50))\n",
    "model.add(Dense(2, activation='softmax'))\n",
    "\n",
    "model.compile(optimizer='adam',loss='sparse_categorical_crossentropy',metrics=['accuracy'])\n",
    "\n",
    "history = model.fit(x_train, y_train, epochs=10,validation_data=(x_test, y_test)).history\n",
    "plot_history(history)"
   ]
  },
  {
   "cell_type": "code",
   "execution_count": 11,
   "metadata": {},
   "outputs": [],
   "source": [
    "probability_model = tf.keras.Sequential([model, \n",
    "                                         tf.keras.layers.Softmax()])\n",
    "\n",
    "predictions = probability_model.predict(x_test)"
   ]
  },
  {
   "cell_type": "code",
   "execution_count": null,
   "metadata": {},
   "outputs": [],
   "source": []
  },
  {
   "cell_type": "code",
   "execution_count": 12,
   "metadata": {},
   "outputs": [],
   "source": [
    "model.save('ipl.h5')"
   ]
  },
  {
   "cell_type": "code",
   "execution_count": null,
   "metadata": {},
   "outputs": [],
   "source": []
  }
 ],
 "metadata": {
  "kernelspec": {
   "display_name": "Python 3",
   "language": "python",
   "name": "python3"
  },
  "language_info": {
   "codemirror_mode": {
    "name": "ipython",
    "version": 3
   },
   "file_extension": ".py",
   "mimetype": "text/x-python",
   "name": "python",
   "nbconvert_exporter": "python",
   "pygments_lexer": "ipython3",
   "version": "3.8.3"
  }
 },
 "nbformat": 4,
 "nbformat_minor": 4
}
